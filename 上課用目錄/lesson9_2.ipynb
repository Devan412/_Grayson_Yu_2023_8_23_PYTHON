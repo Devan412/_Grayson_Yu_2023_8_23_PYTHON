{
 "cells": [
  {
   "cell_type": "code",
   "execution_count": 24,
   "metadata": {},
   "outputs": [
    {
     "name": "stdout",
     "output_type": "stream",
     "text": [
      "請輸入要取得的名字數量:50\n"
     ]
    },
    {
     "data": {
      "text/plain": [
       "['黎惠雯',\n",
       " '尚偉倫',\n",
       " '張莉雯',\n",
       " '林珍旺',\n",
       " '白世宏',\n",
       " '林向鈺',\n",
       " '張雅芬',\n",
       " '李慈啟',\n",
       " '黎惠雯',\n",
       " '黃柏宇',\n",
       " '張俊傑',\n",
       " '蔡欣汝',\n",
       " '蔡世馨',\n",
       " '劉昀天',\n",
       " '黃翔杰',\n",
       " '王良斌',\n",
       " '吳淑惠',\n",
       " '馮耀中',\n",
       " '林義皓',\n",
       " '林冠蕙',\n",
       " '呂傑宣',\n",
       " '蔡孟泉',\n",
       " '陳凱翔',\n",
       " '陳向愛',\n",
       " '白世宏',\n",
       " '王惠皓',\n",
       " '盧文啟',\n",
       " '楊偉翔',\n",
       " '陳逸凡',\n",
       " '周琬婷',\n",
       " '黃志福',\n",
       " '林希啟',\n",
       " '林怡偉',\n",
       " '彭偉妃',\n",
       " '陳家年',\n",
       " '簡佳樺',\n",
       " '林麗萍',\n",
       " '蔡士賢',\n",
       " '賴佳雯',\n",
       " '張俊傑',\n",
       " '林柏洋',\n",
       " '楊韋廷',\n",
       " '簡國瑋',\n",
       " '黎惠雯',\n",
       " '黃江旭',\n",
       " '劉林中',\n",
       " '李淑芳',\n",
       " '張軒宸',\n",
       " '陳文賢',\n",
       " '傅佳琳']"
      ]
     },
     "execution_count": 24,
     "metadata": {},
     "output_type": "execute_result"
    }
   ],
   "source": [
    "import pyinputplus as pyip\n",
    "import random\n",
    "\n",
    "with open(\"names.txt\",encoding=\"utf-8\") as file:\n",
    "    names = []\n",
    "    for name in file:\n",
    "        names.append(name.rstrip())\n",
    "\n",
    "num = pyip.inputInt(\"請輸入要取得的名字數量:\",min=0,max=50)\n",
    "print(num)\n",
    "random.choices(names,k=num)\n"
   ]
  },
  {
   "cell_type": "code",
   "execution_count": 25,
   "metadata": {},
   "outputs": [
    {
     "name": "stdout",
     "output_type": "stream",
     "text": [
      "請輸入要取得的名字數量:"
     ]
    },
    {
     "data": {
      "text/plain": [
       "['邱亭君',\n",
       " '姜琬婷',\n",
       " '李慈啟',\n",
       " '林佳慧',\n",
       " '林佳人',\n",
       " '劉依婷',\n",
       " '周芷蓁',\n",
       " '鄭琇亞',\n",
       " '趙家豪',\n",
       " '白世宏',\n",
       " '葉祖雄',\n",
       " '林昱芳',\n",
       " '蘇凡菁',\n",
       " '金宜芳',\n",
       " '溫法堯',\n",
       " '錢佩豪',\n",
       " '張彥博',\n",
       " '胡淑貞',\n",
       " '許芳如',\n",
       " '趙宛真',\n",
       " '王怡君',\n",
       " '林群清',\n",
       " '周芷蓁',\n",
       " '陳美惠',\n",
       " '白世宏',\n",
       " '吳晴洋',\n",
       " '藍姿婷',\n",
       " '楊綺芬',\n",
       " '尚偉倫',\n",
       " '吳孟穎',\n",
       " '黃江旭',\n",
       " '張雅芬',\n",
       " '吳俐芷',\n",
       " '陳慧君',\n",
       " '簡國瑋',\n",
       " '盧冠發',\n",
       " '王柏聖',\n",
       " '陳信念',\n",
       " '陳信宏',\n",
       " '王怡君',\n",
       " '李進慧',\n",
       " '黃佩玲',\n",
       " '杜明延',\n",
       " '沈心利',\n",
       " '洪阿惠',\n",
       " '黃心航',\n",
       " '劉佳佩',\n",
       " '鄧亭聿',\n",
       " '劉林中',\n",
       " '翁羽威']"
      ]
     },
     "execution_count": 25,
     "metadata": {},
     "output_type": "execute_result"
    }
   ],
   "source": [
    "import random\n",
    "import pyinputplus as pyip\n",
    "\n",
    "def getNames(num:int) -> list[str]:\n",
    "    with open(\"names.txt\",encoding=\"utf-8\") as file:\n",
    "        names = []\n",
    "        for name in file:\n",
    "            names.append(name.rstrip())\n",
    "    return random.choices(names,k=num)\n",
    "\n",
    "n = pyip.inputInt(\"請輸入要取得的名字數量:\",min=0,max=50)\n",
    "getNames(num=n)"
   ]
  }
 ],
 "metadata": {
  "kernelspec": {
   "display_name": "Python 3",
   "language": "python",
   "name": "python3"
  },
  "language_info": {
   "codemirror_mode": {
    "name": "ipython",
    "version": 3
   },
   "file_extension": ".py",
   "mimetype": "text/x-python",
   "name": "python",
   "nbconvert_exporter": "python",
   "pygments_lexer": "ipython3",
   "version": "3.10.8"
  },
  "orig_nbformat": 4
 },
 "nbformat": 4,
 "nbformat_minor": 2
}
