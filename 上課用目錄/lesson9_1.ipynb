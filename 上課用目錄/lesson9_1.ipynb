{
 "cells": [
  {
   "cell_type": "code",
   "execution_count": 3,
   "metadata": {},
   "outputs": [],
   "source": [
    "import random\n",
    "\n",
    "def generate_stu()->list[int]:\n",
    "    scores = []\n",
    "    for _ in range(5):\n",
    "        scores.append(random.randint(50,100))\n",
    "    return scores\n",
    "\n",
    "def getNames(num:int) -> list[str]:\n",
    "    with open(\"names.txt\",encoding=\"utf-8\") as file:\n",
    "        names = []\n",
    "        for name in file:\n",
    "            names.append(name.rstrip())\n",
    "    return random.choices(names,k=num)\n"
   ]
  },
  {
   "cell_type": "code",
   "execution_count": 5,
   "metadata": {},
   "outputs": [
    {
     "name": "stdout",
     "output_type": "stream",
     "text": [
      "請輸入學生的人數:15\n"
     ]
    },
    {
     "data": {
      "text/plain": [
       "[['藍姿婷', 87, 75, 68, 93, 99],\n",
       " ['張婕妤', 99, 59, 91, 77, 75],\n",
       " ['李佳彥', 80, 60, 80, 89, 84],\n",
       " ['鄭淑珍', 82, 72, 55, 62, 86],\n",
       " ['吳柏誠', 90, 61, 65, 54, 52],\n",
       " ['黃婷婷', 69, 82, 74, 100, 85],\n",
       " ['潘俊賢', 70, 95, 61, 51, 93],\n",
       " ['崔孝憲', 57, 89, 54, 99, 86],\n",
       " ['吳柏誠', 71, 87, 76, 80, 98],\n",
       " ['姜琬婷', 82, 62, 84, 94, 57],\n",
       " ['王德城', 95, 88, 74, 64, 100],\n",
       " ['龐皓芳', 100, 52, 73, 85, 82],\n",
       " ['高俊男', 74, 91, 72, 50, 82],\n",
       " ['王人仰', 50, 68, 98, 73, 60],\n",
       " ['王品星', 89, 59, 87, 76, 59]]"
      ]
     },
     "execution_count": 5,
     "metadata": {},
     "output_type": "execute_result"
    }
   ],
   "source": [
    "import pyinputplus as pyip\n",
    "\n",
    "num = pyip.inputInt('請輸入學生的人數:',min=5,max=50)\n",
    "print(num)\n",
    "names = getNames(num=num) #建立學生姓名的list\n",
    "students = []\n",
    "for i in range(num):\n",
    "    scores =  generate_stu() #建立學生的5個分數\n",
    "    scores.insert(0,names[i]) #將學生姓名加入至list內\n",
    "    students.append(scores)\n",
    "\n",
    "students"
   ]
  },
  {
   "cell_type": "code",
   "execution_count": 6,
   "metadata": {},
   "outputs": [
    {
     "name": "stdout",
     "output_type": "stream",
     "text": [
      "存檔成功\n"
     ]
    }
   ],
   "source": [
    "import csv\n",
    "with open (\"學生成績.csv\",mode='w',encoding= \"utf-8\",newline='') as file:\n",
    "    csv_writer = csv.writer(file)\n",
    "    csv_writer.writerows(students)\n",
    "print(\"存檔成功\")"
   ]
  },
  {
   "cell_type": "code",
   "execution_count": 14,
   "metadata": {},
   "outputs": [],
   "source": [
    "def save_csv_file(filename:str, data:list) -> bool:\n",
    "    try:\n",
    "        with open(filename,mode='w',encoding=\"utf-8\",newline='') as file:\n",
    "            csv_writer = csv.writer(file)\n",
    "            csv_writer.writerow([\"姓名\",\"國文\",\"英文\",\"數學\",\"地理\",\"歷史\"])\n",
    "            csv_writer.writerows(data)\n",
    "    except:\n",
    "        return False\n",
    "    else:\n",
    "        return True\n"
   ]
  },
  {
   "cell_type": "code",
   "execution_count": 16,
   "metadata": {},
   "outputs": [
    {
     "name": "stdout",
     "output_type": "stream",
     "text": [
      "存檔成功\n"
     ]
    }
   ],
   "source": [
    "fname = input(\"請輸入csv的儲存的檔案名稱\")\n",
    "if save_csv_file(filename=f\"{fname}\",data=students):\n",
    "     print(\"存檔成功\")\n",
    "else:\n",
    "     print(\"存檔失敗\")"
   ]
  }
 ],
 "metadata": {
  "kernelspec": {
   "display_name": "Python 3",
   "language": "python",
   "name": "python3"
  },
  "language_info": {
   "codemirror_mode": {
    "name": "ipython",
    "version": 3
   },
   "file_extension": ".py",
   "mimetype": "text/x-python",
   "name": "python",
   "nbconvert_exporter": "python",
   "pygments_lexer": "ipython3",
   "version": "3.10.8"
  },
  "orig_nbformat": 4
 },
 "nbformat": 4,
 "nbformat_minor": 2
}
